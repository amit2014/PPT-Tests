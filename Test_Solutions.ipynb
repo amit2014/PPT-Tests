{
  "nbformat": 4,
  "nbformat_minor": 0,
  "metadata": {
    "colab": {
      "provenance": []
    },
    "kernelspec": {
      "name": "python3",
      "display_name": "Python 3"
    },
    "language_info": {
      "name": "python"
    }
  },
  "cells": [
    {
      "cell_type": "markdown",
      "source": [
        "**Move Zeroes**\n",
        "\n",
        "Given an integer array nums, move all 0's to the end of it while maintaining the relative order of the non-zero elements.\n",
        "\n",
        "Note that you must do this in-place without making a copy of the array.\n",
        "```python\n",
        "Example 1:\n",
        "Input: nums = [0,1,0,3,12]\n",
        "Output: [1,3,12,0,0]\n",
        "\n",
        "Example 2:\n",
        "Input: nums = [0]\n",
        "Output: [0]\n",
        "```\n",
        "```python \n",
        "Constraints:\n",
        "a. 1 <= nums.length <= 10^4\n",
        "b. -2^31 <= nums[i] <= 2^31 - 1\n",
        "```"
      ],
      "metadata": {
        "id": "jgyV6Mksvu7e"
      }
    },
    {
      "cell_type": "code",
      "execution_count": 13,
      "metadata": {
        "colab": {
          "base_uri": "https://localhost:8080/"
        },
        "id": "TI31gw0Kvquh",
        "outputId": "099722db-1f16-4aae-c8b7-f2620ccc8074"
      },
      "outputs": [
        {
          "output_type": "stream",
          "name": "stdout",
          "text": [
            "[1, 3, 12, 0, 0]\n"
          ]
        }
      ],
      "source": [
        "def moveZeroes(nums) -> None:\n",
        "    \n",
        "    # Initialize a pointer to track the position to swap with\n",
        "    swap = 0\n",
        "    \n",
        "    # Iterate through the array\n",
        "    for i in range(len(nums)):\n",
        "        # If the current element is not 0, swap it with the element at the swap position\n",
        "        if nums[i] != 0:\n",
        "            nums[i], nums[swap] = nums[swap], nums[i]\n",
        "            swap += 1\n",
        "    print(nums)\n",
        "\n",
        "nums = [0, 1, 0, 3, 12]\n",
        "moveZeroes(nums)"
      ]
    },
    {
      "cell_type": "markdown",
      "source": [
        "**First Unique Character in a String**\n",
        "\n",
        "Given a string s, find the first non-repeating character in it and return its index. If it does not exist, return -1.\n",
        "\n",
        "```python\n",
        "Example 1:\n",
        "Input: s = \"leetcode\"\n",
        "Output: 0\n",
        "\n",
        "Example 2:\n",
        "Input: s = \"loveleetcode\"\n",
        "Output: 2\n",
        "\n",
        "Example 3:\n",
        "Input: s = \"aabb\"\n",
        "Output: -1\n",
        "\n",
        "Constraints:\n",
        "a. 1 <= s.length <= 10^5\n",
        "b. s consists of only lowercase English letters.\n",
        "```"
      ],
      "metadata": {
        "id": "d2OmJo1ZvtBk"
      }
    },
    {
      "cell_type": "code",
      "source": [
        "def firstUniqChar(s: str) -> int:\n",
        "    char_count = {}\n",
        "    \n",
        "    # Count the occurrences of each character\n",
        "    for char in s:\n",
        "        char_count[char] = char_count.get(char, 0) + 1\n",
        "    \n",
        "    # Find the first character with count 1\n",
        "    for i in range(len(s)):\n",
        "        if char_count[s[i]] == 1:\n",
        "            return i\n",
        "    \n",
        "    # If no non-repeating character is found, return -1\n",
        "    return -1\n",
        "\n",
        "# Test the function\n",
        "s = \"leetcode\"\n",
        "print(firstUniqChar(s)) \n",
        "\n",
        "s = \"loveleetcode\"\n",
        "print(firstUniqChar(s)) \n",
        "\n",
        "s = \"aabb\"\n",
        "print(firstUniqChar(s)) \n"
      ],
      "metadata": {
        "colab": {
          "base_uri": "https://localhost:8080/"
        },
        "id": "DL9SjV5OyiE7",
        "outputId": "626f8197-9059-4bec-ac3a-c5be499590e2"
      },
      "execution_count": 16,
      "outputs": [
        {
          "output_type": "stream",
          "name": "stdout",
          "text": [
            "0\n",
            "2\n",
            "-1\n"
          ]
        }
      ]
    },
    {
      "cell_type": "code",
      "source": [],
      "metadata": {
        "id": "9QIKDrttypQQ"
      },
      "execution_count": null,
      "outputs": []
    }
  ]
}