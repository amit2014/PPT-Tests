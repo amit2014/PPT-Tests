{
  "nbformat": 4,
  "nbformat_minor": 0,
  "metadata": {
    "colab": {
      "provenance": [],
      "authorship_tag": "ABX9TyNLbeSO0CS5TM/ivY8yQxLW",
      "include_colab_link": true
    },
    "kernelspec": {
      "name": "python3",
      "display_name": "Python 3"
    },
    "language_info": {
      "name": "python"
    }
  },
  "cells": [
    {
      "cell_type": "markdown",
      "metadata": {
        "id": "view-in-github",
        "colab_type": "text"
      },
      "source": [
        "<a href=\"https://colab.research.google.com/github/amit2014/PPT-Tests/blob/main/DSA_Mock_Test_2_Python.ipynb\" target=\"_parent\"><img src=\"https://colab.research.google.com/assets/colab-badge.svg\" alt=\"Open In Colab\"/></a>"
      ]
    },
    {
      "cell_type": "markdown",
      "source": [
        "Given a non-negative integer x, return the square root of x rounded down to the nearest integer. The returned integer should be non-negative as well. You must not use any built-in exponent function or operator.\n",
        "\n",
        " Example 1:\n",
        "Input: x = 4 Output: 2 Explanation: The square root of 4 is 2, so we return 2.\n",
        "Example 2:\n",
        "\n",
        "Input: x = 8 Output: 2 Explanation: The square root of 8 is 2.82842..., and since we round it down to the nearest integer, 2 is returned.\n",
        "Constraints:\n",
        "\n",
        "0 <= x <= 2^31 - 1\n",
        "\n",
        "Note: Create a GitHub file for the solution and add the file link the the answer section below.\n",
        "5 points\n"
      ],
      "metadata": {
        "id": "PEQ8prGErXWk"
      }
    },
    {
      "cell_type": "code",
      "source": [
        "def square_root(x):\n",
        "    low = 0\n",
        "    high = x\n",
        "\n",
        "    while low <= high:\n",
        "        mid = (low + high) // 2\n",
        "\n",
        "        if mid * mid <= x:\n",
        "            low = mid + 1\n",
        "        else:\n",
        "            high = mid - 1\n",
        "\n",
        "    return low - 1\n"
      ],
      "metadata": {
        "id": "Vgc3hTyprYvU"
      },
      "execution_count": 1,
      "outputs": []
    },
    {
      "cell_type": "code",
      "source": [
        "square_root(4)"
      ],
      "metadata": {
        "colab": {
          "base_uri": "https://localhost:8080/"
        },
        "id": "7BH-NjDIrrmQ",
        "outputId": "5889ded6-55d5-4931-a577-7589d3682b91"
      },
      "execution_count": 2,
      "outputs": [
        {
          "output_type": "execute_result",
          "data": {
            "text/plain": [
              "2"
            ]
          },
          "metadata": {},
          "execution_count": 2
        }
      ]
    },
    {
      "cell_type": "code",
      "source": [
        "square_root(8)"
      ],
      "metadata": {
        "colab": {
          "base_uri": "https://localhost:8080/"
        },
        "id": "YHQx86ZAryov",
        "outputId": "cff0aaca-c9c6-4dfd-b3fe-e213b7dbf214"
      },
      "execution_count": 3,
      "outputs": [
        {
          "output_type": "execute_result",
          "data": {
            "text/plain": [
              "2"
            ]
          },
          "metadata": {},
          "execution_count": 3
        }
      ]
    },
    {
      "cell_type": "markdown",
      "source": [
        "You are given two non-empty linked lists representing two non-negative integers. The digits are stored in reverse order, and each of their nodes contains a single digit. Add the two numbers and return the sum as a linked list.\n",
        "\n",
        "You may assume the two numbers do not contain any leading zero, except the number 0 itself.\n",
        "\n",
        "\n",
        "Example 1:\n",
        "\n",
        "Input: l1 = [2,4,3], l2 = [5,6,4] Output: [7,0,8] Explanation: 342 + 465 = 807.\n",
        "\n",
        "Example 2:\n",
        "\n",
        "Input: l1 = [0], l2 = [0] Output: [0]\n",
        "\n",
        "Example 3:\n",
        "\n",
        "Input: l1 = [9,9,9,9,9,9,9], l2 = [9,9,9,9] Output: [8,9,9,9,0,0,0,1]\n",
        "\n",
        "\n",
        "\n",
        "Constraints:\n",
        "\n",
        "The number of nodes in each linked list is in the range [1, 100].\n",
        "0 <= Node.val <= 9 It is guaranteed that the list represents a number that does not have leading zeros."
      ],
      "metadata": {
        "id": "XoRsRpj6sQQn"
      }
    },
    {
      "cell_type": "code",
      "source": [
        "def add_linked_lists(l1, l2):\n",
        "  \"\"\"\n",
        "  Adds two linked lists representing non-negative integers.\n",
        "\n",
        "  Args:\n",
        "    l1: The first linked list.\n",
        "    l2: The second linked list.\n",
        "\n",
        "  Returns:\n",
        "    The linked list representing the sum of the two input linked lists.\n",
        "  \"\"\"\n",
        "\n",
        "  carry = 0\n",
        "  result = []\n",
        "\n",
        "  while l1 or l2 or carry:\n",
        "    val1 = l1[0] if l1 else 0\n",
        "    val2 = l2[0] if l2 else 0\n",
        "\n",
        "    sum_val = val1 + val2 + carry\n",
        "    carry = sum_val // 10\n",
        "    result.append(sum_val % 10)\n",
        "\n",
        "    l1 = l1[1:] if l1 else None\n",
        "    l2 = l2[1:] if l2 else None\n",
        "\n",
        "  return result\n"
      ],
      "metadata": {
        "id": "Z9In2Wd_sSqY"
      },
      "execution_count": 15,
      "outputs": []
    },
    {
      "cell_type": "code",
      "source": [
        "l1 = [2, 4, 3]\n",
        "l2 = [5, 6, 4]\n",
        "\n",
        "result = add_linked_lists(l1, l2)\n",
        "\n",
        "print(result)\n"
      ],
      "metadata": {
        "colab": {
          "base_uri": "https://localhost:8080/"
        },
        "id": "01YTCbwYseOB",
        "outputId": "c16f2b24-c6e4-4d83-f653-216b5c2406f0"
      },
      "execution_count": 16,
      "outputs": [
        {
          "output_type": "stream",
          "name": "stdout",
          "text": [
            "[7, 0, 8]\n"
          ]
        }
      ]
    },
    {
      "cell_type": "code",
      "source": [],
      "metadata": {
        "id": "bOVm6i0bslfC"
      },
      "execution_count": null,
      "outputs": []
    }
  ]
}